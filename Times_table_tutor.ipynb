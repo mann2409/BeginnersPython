{
  "nbformat": 4,
  "nbformat_minor": 0,
  "metadata": {
    "colab": {
      "name": "Times_table_tutor.ipynb",
      "provenance": [],
      "collapsed_sections": [],
      "authorship_tag": "ABX9TyN6nFVAYHj+B331ubNHpG40",
      "include_colab_link": true
    },
    "kernelspec": {
      "name": "python3",
      "display_name": "Python 3"
    },
    "language_info": {
      "name": "python"
    }
  },
  "cells": [
    {
      "cell_type": "markdown",
      "metadata": {
        "id": "view-in-github",
        "colab_type": "text"
      },
      "source": [
        "<a href=\"https://colab.research.google.com/github/mann2409/BeginnersPython/blob/master/Times_table_tutor.ipynb\" target=\"_parent\"><img src=\"https://colab.research.google.com/assets/colab-badge.svg\" alt=\"Open In Colab\"/></a>"
      ]
    },
    {
      "cell_type": "markdown",
      "metadata": {
        "id": "sCJ_onEvEHky"
      },
      "source": [
        "Times tables tutor\n",
        "Your challenge is to write a program to help children learn their times tables.\n",
        "Here's one way your program might work (but feel free to think of a better way):\n",
        "\n",
        "It randomly selects 10 pairs of integers to multiply, each between 2 and 12.\n",
        "For each pair, it asks the user to multiply them.\n",
        "If the user gets the correct answer then the program says so, and moves to the \n",
        "next pair. Otherwise, the program gets the user to try again.\n",
        "If the user doesn't get the answer within 3 attempts, the program gives the \n",
        "correct answer and then moves to the next pair. The user only gets a point for \n",
        "a pair if she gets it on the first attempt. At the end of the 10 pairs, the \n",
        "program tells the user her score out of 10, and asks if she'd like to try \n",
        "another 10.\n",
        "\n",
        "What is 7 x 5?  34\n",
        "Incorrect - try again\n",
        "What is 7 x 5?  33\n",
        "Incorrect - try again\n",
        "What is 7 x 5?  35\n",
        "Correct!\n",
        "\n",
        "You got 6/10. Would you like to try again?\n",
        "\n"
      ]
    },
    {
      "cell_type": "code",
      "metadata": {
        "colab": {
          "base_uri": "https://localhost:8080/"
        },
        "id": "X2MNwKocEPjl",
        "outputId": "d135077d-bdb5-4156-b4cd-d7d102164d43"
      },
      "source": [
        "from random import randint\n",
        "score = 0 #Global variable\n",
        "\n",
        "def get_pairs():\n",
        "  \"\"\"Determine pairs to ask questions on\"\"\"\n",
        "  i = 0\n",
        "  main_list = []\n",
        "  pairs = []\n",
        "  while i < 10:\n",
        "    x = randint(2,12)\n",
        "    y = randint(2,12)\n",
        "    pairs = [x,y]\n",
        "    main_list.append(pairs)\n",
        "    i += 1\n",
        "  return main_list\n",
        "\n",
        "def call_pairs(pair):\n",
        "  \"Ask Questions to user\"\n",
        "  i = 0\n",
        "  a = pair[0]\n",
        "  b = pair[1]\n",
        "  \n",
        "  ans = a * b\n",
        "  global score\n",
        "\n",
        "  for i in range(3):\n",
        "    usr_ans = int(input(print(f\"What is {a} x {b}?\")))\n",
        "    if usr_ans != ans:\n",
        "      print(\"Incorrect - try again.\")\n",
        "    else:\n",
        "      print(\"Correct!\")\n",
        "      score += 1\n",
        "      break\n",
        "    i += 1\n",
        "\n",
        "def tables(main_list):\n",
        "  for pair in main_list:\n",
        "    call_pairs(pair)\n",
        "\n",
        "data = get_pairs()\n",
        "print(f\"main list : {data}\")  \n",
        "tables(data)\n",
        "print(f\"You got {score}/10. Would you like to try again?\")\n"
      ],
      "execution_count": null,
      "outputs": [
        {
          "output_type": "stream",
          "text": [
            "main list : [[7, 3], [10, 4], [2, 6], [4, 3], [7, 8], [6, 3], [3, 6], [5, 12], [9, 11], [10, 9]]\n",
            "[7, 3]\n",
            "What is 7 x 3?\n",
            "27\n",
            "Incorrect - try again.\n",
            "What is 7 x 3?\n",
            "31\n",
            "Incorrect - try again.\n",
            "What is 7 x 3?\n",
            "21\n",
            "Correct!\n",
            "[10, 4]\n",
            "What is 10 x 4?\n",
            "40\n",
            "Correct!\n",
            "[2, 6]\n",
            "What is 2 x 6?\n",
            "12\n",
            "Correct!\n",
            "[4, 3]\n",
            "What is 4 x 3?\n",
            "12\n",
            "Correct!\n",
            "[7, 8]\n",
            "What is 7 x 8?\n",
            "56\n",
            "Correct!\n",
            "[6, 3]\n",
            "What is 6 x 3?\n",
            "18\n",
            "Correct!\n",
            "[3, 6]\n",
            "What is 3 x 6?\n",
            "36\n",
            "Incorrect - try again.\n",
            "What is 3 x 6?\n",
            "18\n",
            "Correct!\n",
            "[5, 12]\n",
            "What is 5 x 12?\n",
            "60\n",
            "Correct!\n",
            "[9, 11]\n",
            "What is 9 x 11?\n",
            "99\n",
            "Correct!\n",
            "[10, 9]\n",
            "What is 10 x 9?\n",
            "90\n",
            "Correct!\n",
            "You got 10/10. Would you like to try again?\n"
          ],
          "name": "stdout"
        }
      ]
    }
  ]
}