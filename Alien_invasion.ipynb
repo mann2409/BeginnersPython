{
  "nbformat": 4,
  "nbformat_minor": 0,
  "metadata": {
    "colab": {
      "name": "Alien_invasion.ipynb",
      "provenance": [],
      "collapsed_sections": [],
      "authorship_tag": "ABX9TyMd9Xjo22GLvZdDNbuN+8fW",
      "include_colab_link": true
    },
    "kernelspec": {
      "name": "python3",
      "display_name": "Python 3"
    },
    "language_info": {
      "name": "python"
    }
  },
  "cells": [
    {
      "cell_type": "markdown",
      "metadata": {
        "id": "view-in-github",
        "colab_type": "text"
      },
      "source": [
        "<a href=\"https://colab.research.google.com/github/mann2409/BeginnersPython/blob/master/Alien_invasion.ipynb\" target=\"_parent\"><img src=\"https://colab.research.google.com/assets/colab-badge.svg\" alt=\"Open In Colab\"/></a>"
      ]
    },
    {
      "cell_type": "code",
      "metadata": {
        "colab": {
          "base_uri": "https://localhost:8080/",
          "height": 333
        },
        "id": "a71o_JKN3v8j",
        "outputId": "21692bfd-3768-4a4b-a5db-371adfb84591"
      },
      "source": [
        "\"\"\"import os\n",
        "!git clone https://github.com/ntasfi/PyGame-Learning-Environment.git\n",
        "os.chdir('PyGame-Learning-Environment')\n",
        "!pip install -e\n",
        "!!pip install PyGame\n",
        "os.chdir('/content')\"\"\"\n",
        "\n",
        "import sys\n",
        "import pygame\n",
        "\n",
        "pygame.init()\n",
        "\n",
        "class AlienInvasion:\n",
        "  \"\"\"Overall class to manage game assets and behavior.\"\"\"\n",
        "\n",
        "  def __init___(self):\n",
        "    \"\"\"Initialize the game, and create game resources.\"\"\"\n",
        "    pygame.init()\n",
        "\n",
        "    self.screen = pygame.display.set_mode((1200, 800))\n",
        "    pygame.display.set_caption(\"Alien Invasion\")\n",
        "\n",
        "  def run_game(self):\n",
        "    \"\"\"Start the main loop for the game\"\"\"\n",
        "    while True:\n",
        "      # Watch for keyboard and mouse events.\n",
        "      for event in pygame.event.get():\n",
        "        if event.type == pygame.QUIT:\n",
        "          sys.exit()\n",
        "\n",
        "      # Make the most recently drawn screen visible.\n",
        "      pygame.display.flip()\n",
        "\n",
        "if __name__ == '__main__':\n",
        "  #Make a game instance , and run the game.\n",
        "  ai = AlienInvasion()\n",
        "  ai.run_game()\n",
        "\n"
      ],
      "execution_count": null,
      "outputs": [
        {
          "output_type": "error",
          "ename": "error",
          "evalue": "ignored",
          "traceback": [
            "\u001b[0;31m---------------------------------------------------------------------------\u001b[0m",
            "\u001b[0;31merror\u001b[0m                                     Traceback (most recent call last)",
            "\u001b[0;32m<ipython-input-6-b954b9730bc2>\u001b[0m in \u001b[0;36m<module>\u001b[0;34m()\u001b[0m\n\u001b[1;32m     33\u001b[0m   \u001b[0;31m#Make a game instance , and run the game.\u001b[0m\u001b[0;34m\u001b[0m\u001b[0;34m\u001b[0m\u001b[0;34m\u001b[0m\u001b[0m\n\u001b[1;32m     34\u001b[0m   \u001b[0mai\u001b[0m \u001b[0;34m=\u001b[0m \u001b[0mAlienInvasion\u001b[0m\u001b[0;34m(\u001b[0m\u001b[0;34m)\u001b[0m\u001b[0;34m\u001b[0m\u001b[0;34m\u001b[0m\u001b[0m\n\u001b[0;32m---> 35\u001b[0;31m   \u001b[0mai\u001b[0m\u001b[0;34m.\u001b[0m\u001b[0mrun_game\u001b[0m\u001b[0;34m(\u001b[0m\u001b[0;34m)\u001b[0m\u001b[0;34m\u001b[0m\u001b[0;34m\u001b[0m\u001b[0m\n\u001b[0m\u001b[1;32m     36\u001b[0m \u001b[0;34m\u001b[0m\u001b[0m\n",
            "\u001b[0;32m<ipython-input-6-b954b9730bc2>\u001b[0m in \u001b[0;36mrun_game\u001b[0;34m(self)\u001b[0m\n\u001b[1;32m     23\u001b[0m     \u001b[0;32mwhile\u001b[0m \u001b[0;32mTrue\u001b[0m\u001b[0;34m:\u001b[0m\u001b[0;34m\u001b[0m\u001b[0;34m\u001b[0m\u001b[0m\n\u001b[1;32m     24\u001b[0m       \u001b[0;31m# Watch for keyboard and mouse events.\u001b[0m\u001b[0;34m\u001b[0m\u001b[0;34m\u001b[0m\u001b[0;34m\u001b[0m\u001b[0m\n\u001b[0;32m---> 25\u001b[0;31m       \u001b[0;32mfor\u001b[0m \u001b[0mevent\u001b[0m \u001b[0;32min\u001b[0m \u001b[0mpygame\u001b[0m\u001b[0;34m.\u001b[0m\u001b[0mevent\u001b[0m\u001b[0;34m.\u001b[0m\u001b[0mget\u001b[0m\u001b[0;34m(\u001b[0m\u001b[0;34m)\u001b[0m\u001b[0;34m:\u001b[0m\u001b[0;34m\u001b[0m\u001b[0;34m\u001b[0m\u001b[0m\n\u001b[0m\u001b[1;32m     26\u001b[0m         \u001b[0;32mif\u001b[0m \u001b[0mevent\u001b[0m\u001b[0;34m.\u001b[0m\u001b[0mtype\u001b[0m \u001b[0;34m==\u001b[0m \u001b[0mpygame\u001b[0m\u001b[0;34m.\u001b[0m\u001b[0mQUIT\u001b[0m\u001b[0;34m:\u001b[0m\u001b[0;34m\u001b[0m\u001b[0;34m\u001b[0m\u001b[0m\n\u001b[1;32m     27\u001b[0m           \u001b[0msys\u001b[0m\u001b[0;34m.\u001b[0m\u001b[0mexit\u001b[0m\u001b[0;34m(\u001b[0m\u001b[0;34m)\u001b[0m\u001b[0;34m\u001b[0m\u001b[0;34m\u001b[0m\u001b[0m\n",
            "\u001b[0;31merror\u001b[0m: video system not initialized"
          ]
        }
      ]
    }
  ]
}