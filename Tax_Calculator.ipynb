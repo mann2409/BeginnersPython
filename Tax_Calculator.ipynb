{
  "nbformat": 4,
  "nbformat_minor": 0,
  "metadata": {
    "colab": {
      "name": "Tax Calculator.ipynb",
      "provenance": [],
      "collapsed_sections": [],
      "authorship_tag": "ABX9TyMv18vtbiUUyBL9lGzGewd2",
      "include_colab_link": true
    },
    "kernelspec": {
      "name": "python3",
      "display_name": "Python 3"
    },
    "language_info": {
      "name": "python"
    }
  },
  "cells": [
    {
      "cell_type": "markdown",
      "metadata": {
        "id": "view-in-github",
        "colab_type": "text"
      },
      "source": [
        "<a href=\"https://colab.research.google.com/github/mann2409/BeginnersPython/blob/practice/Tax_Calculator.ipynb\" target=\"_parent\"><img src=\"https://colab.research.google.com/assets/colab-badge.svg\" alt=\"Open In Colab\"/></a>"
      ]
    },
    {
      "cell_type": "code",
      "metadata": {
        "colab": {
          "base_uri": "https://localhost:8080/",
          "height": 249
        },
        "id": "hTRBStKh_jlg",
        "outputId": "2be805fd-230c-4a6d-e692-b394b77b6623"
      },
      "source": [
        "# Write a program that asks the user for her income and then returns the estimated amount of tax on her income. Use the Australian Tax Office's 2018-19 calculation method:\n",
        "# 0 – $18,200: Nil\n",
        "# $18,201 – $37,000: 19c for each $1 over $18,200\n",
        "# $37,001 – $90,000: $3,572 plus 32.5c for each $1 over $37,000\n",
        "# $90,001 – $180,000: $20,797 plus 37c for each $1 over $90,000\n",
        "# $180,001 and over: $54,097 plus 45c for each $1 over $180,000\n",
        "\n",
        "#User Input\n",
        "income_input = input(\"What was your income in 2018-19?\")\n",
        "\n",
        "#Check user has provided numbers only\n",
        "while income_input.isinstance() == False:\n",
        "  print('Please enter numbers only.')\n",
        "  income_input = input(\"What was your income in 2018-19?\")\n",
        "\n",
        "print(\"Thank you for providing your income $\",income_input)\n",
        "\n",
        "#Changing the type as input is string\n",
        "income = float(income_input)\n",
        "\n",
        "#initiliasing tax to $0\n",
        "tax = 0\n",
        "\n",
        "# 0 – $18,200: Nil\n",
        "if ( income <= 18200 ):\n",
        "        tax = 0  \n",
        "# $18,201 – $37,000: 19c for each $1 over $18,200\n",
        "elif (income > 18200 and income <= 37000):\n",
        "        tax = income * 0.19\n",
        "# $37,001 – $90,000: $3,572 plus 32.5c for each $1 over $37,000\n",
        "elif (income > 37000 and income <= 90000):\n",
        "        tax = 3572\n",
        "        tax = tax+(income-37000) * 0.325\n",
        "# $90,001 – $180,000: $20,797 plus 37c for each $1 over $90,000\n",
        "elif (income > 90000 and income <= 180000):\n",
        "        tax = 20797\n",
        "        tax = tax + (income - 90000) * 0.37\n",
        "# $180,001 and over: $54,097 plus 45c for each $1 over $180,000\n",
        "else:\n",
        "        tax = 54097\n",
        "        tax = tax + (income - 180000) * 0.45\n",
        "#Show estimates to user\n",
        "print(\"The estimated tax on your income is $\", tax)"
      ],
      "execution_count": null,
      "outputs": [
        {
          "output_type": "stream",
          "text": [
            "What was your income in 2018-19?1415.90\n"
          ],
          "name": "stdout"
        },
        {
          "output_type": "error",
          "ename": "AttributeError",
          "evalue": "ignored",
          "traceback": [
            "\u001b[0;31m---------------------------------------------------------------------------\u001b[0m",
            "\u001b[0;31mAttributeError\u001b[0m                            Traceback (most recent call last)",
            "\u001b[0;32m<ipython-input-28-d8b62ffbd02d>\u001b[0m in \u001b[0;36m<module>\u001b[0;34m()\u001b[0m\n\u001b[1;32m     10\u001b[0m \u001b[0;34m\u001b[0m\u001b[0m\n\u001b[1;32m     11\u001b[0m \u001b[0;31m#Check user has provided numbers only\u001b[0m\u001b[0;34m\u001b[0m\u001b[0;34m\u001b[0m\u001b[0;34m\u001b[0m\u001b[0m\n\u001b[0;32m---> 12\u001b[0;31m \u001b[0;32mwhile\u001b[0m \u001b[0mincome_input\u001b[0m\u001b[0;34m.\u001b[0m\u001b[0misinstance\u001b[0m\u001b[0;34m(\u001b[0m\u001b[0;34m)\u001b[0m \u001b[0;34m==\u001b[0m \u001b[0;32mFalse\u001b[0m\u001b[0;34m:\u001b[0m\u001b[0;34m\u001b[0m\u001b[0;34m\u001b[0m\u001b[0m\n\u001b[0m\u001b[1;32m     13\u001b[0m   \u001b[0mprint\u001b[0m\u001b[0;34m(\u001b[0m\u001b[0;34m'Please enter numbers only.'\u001b[0m\u001b[0;34m)\u001b[0m\u001b[0;34m\u001b[0m\u001b[0;34m\u001b[0m\u001b[0m\n\u001b[1;32m     14\u001b[0m   \u001b[0mincome_input\u001b[0m \u001b[0;34m=\u001b[0m \u001b[0minput\u001b[0m\u001b[0;34m(\u001b[0m\u001b[0;34m\"What was your income in 2018-19?\"\u001b[0m\u001b[0;34m)\u001b[0m\u001b[0;34m\u001b[0m\u001b[0;34m\u001b[0m\u001b[0m\n",
            "\u001b[0;31mAttributeError\u001b[0m: 'str' object has no attribute 'isinstance'"
          ]
        }
      ]
    }
  ]
}