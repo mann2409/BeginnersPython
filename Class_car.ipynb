{
  "nbformat": 4,
  "nbformat_minor": 0,
  "metadata": {
    "colab": {
      "name": "Class_car.ipynb",
      "provenance": [],
      "collapsed_sections": [],
      "authorship_tag": "ABX9TyPylPjM/rajyxThCW50RUsp",
      "include_colab_link": true
    },
    "kernelspec": {
      "name": "python3",
      "display_name": "Python 3"
    },
    "language_info": {
      "name": "python"
    }
  },
  "cells": [
    {
      "cell_type": "markdown",
      "metadata": {
        "id": "view-in-github",
        "colab_type": "text"
      },
      "source": [
        "<a href=\"https://colab.research.google.com/github/mann2409/BeginnersPython/blob/master/Class_car.ipynb\" target=\"_parent\"><img src=\"https://colab.research.google.com/assets/colab-badge.svg\" alt=\"Open In Colab\"/></a>"
      ]
    },
    {
      "cell_type": "code",
      "metadata": {
        "colab": {
          "base_uri": "https://localhost:8080/"
        },
        "id": "3WYvHVoJem24",
        "outputId": "08236ccc-784d-42b0-eca5-0e437b7206dc"
      },
      "source": [
        "\"\"\"\n",
        "Super class Car with details of make/mode/year/odometer details\n",
        "\"\"\"\n",
        "class Car:\n",
        "  def __init__(self, make, model, year):\n",
        "    self.make = make\n",
        "    self.model = model\n",
        "    self.year = year\n",
        "    self.odometer_reading = 0\n",
        "\n",
        "  def get_description(self):\n",
        "    long_name = f\"{self.year} {self.make} {self.model}\"\n",
        "    return long_name\n",
        "\n",
        "  def read_odometer(self):\n",
        "    print(f\"This car has {self.odometer_reading} miles on it.\")\n",
        "\n",
        "  def update_odometer(self,mileage):\n",
        "    if mileage > self.odometer_reading:\n",
        "      self.odometer_reading = mileage\n",
        "    else:\n",
        "      print(\"You cant rollback an odometer!\")\n",
        "\n",
        "  def increment_odometer(self, miles):\n",
        "    self.odometer_reading += miles\n",
        "\n",
        "  def fill_gas_tank(self, vol):\n",
        "    if vol >= 70:\n",
        "      print(\"Tank is full\")\n",
        "    else:\n",
        "      print(f\"{vol} litres filled!\")\n",
        "\n",
        "\"\"\" Child class Electric Car \"\"\" \n",
        "class Electric_car(Car):\n",
        "  def __init__(self, make, model, year):\n",
        "    super().__init__(make,model,year)\n",
        "  def fill_gas_tank(self):\n",
        "    print(\"This car doesnt need a gas tank!\")\n",
        "\n",
        "\"\"\"Child Class using Gas \"\"\"\n",
        "class Gas_car(Car):\n",
        "  def __init__(self, make,model, year):\n",
        "      super().__init__(make, model, year)\n",
        "\n",
        "my_tesla = Electric_car('tesla', 'model S', 2019)\n",
        "print(my_tesla.get_description())\n",
        "print(my_tesla.fill_gas_tank())\n",
        "\n",
        "my_bmw = Gas_car('BMW','125 i', 2009)\n",
        "print(my_bmw.fill_gas_tank(56))"
      ],
      "execution_count": 18,
      "outputs": [
        {
          "output_type": "stream",
          "text": [
            "2019 tesla model S\n",
            "This car doesnt need a gas tank!\n",
            "None\n",
            "56 litres filled!\n",
            "None\n"
          ],
          "name": "stdout"
        }
      ]
    }
  ]
}